{
 "cells": [
  {
   "cell_type": "code",
   "execution_count": 1,
   "id": "19f24d03-a9ce-4303-8b0a-0ac1dd359230",
   "metadata": {},
   "outputs": [],
   "source": [
    "import pandas as pd\n",
    "import numpy as np\n",
    "import os\n",
    "from dateutil import parser\n",
    "import matplotlib.pyplot as plt"
   ]
  },
  {
   "cell_type": "code",
   "execution_count": 2,
   "id": "793660c3-aee8-4275-8bd6-1913ffa143d5",
   "metadata": {},
   "outputs": [],
   "source": [
    "def extract_date(text):\n",
    "    try:\n",
    "        return parser.parse(text, fuzzy=True, ignoretz=True).date()\n",
    "    except:\n",
    "        return pd.NA"
   ]
  },
  {
   "cell_type": "code",
   "execution_count": 3,
   "id": "cef44a5c-b0b7-4444-b4f2-2bdf37f67a52",
   "metadata": {},
   "outputs": [],
   "source": [
    "def plot_articles_per_year(df):\n",
    "    # Convert 'Date' to datetime and extract year\n",
    "    df['Year'] = pd.to_datetime(df['Date']).dt.year\n",
    "    # Count the number of articles per year\n",
    "    articles_per_year = df['Year'].value_counts().sort_index()\n",
    "    # Plot\n",
    "    fig, ax = plt.subplots(figsize=(10, 5))\n",
    "    articles_per_year.plot(kind='bar', ax=ax)\n",
    "    plt.title('Number of articles per year')\n",
    "    plt.xlabel('Year')\n",
    "    plt.ylabel('Number of articles')\n",
    "    # Reduce the number of xticks\n",
    "    ax.set_xticks(ax.get_xticks()[::int(len(ax.get_xticks())/10)])\n",
    "    plt.show()\n",
    "\n",
    "def plot_articles_per_year_month(df):\n",
    "    # Convert 'Date' to datetime, extract year and month\n",
    "    df['Year'] = pd.to_datetime(df['Date']).dt.year\n",
    "    df['Month'] = pd.to_datetime(df['Date']).dt.month\n",
    "    # Group by year and month and count the number of articles\n",
    "    articles_per_year_month = df.groupby(['Year', 'Month']).size().unstack().fillna(0)\n",
    "    # Plot\n",
    "    fig, ax = plt.subplots(figsize=(10, 5))\n",
    "    articles_per_year_month.plot(kind='bar', stacked=True, ax=ax)\n",
    "    plt.title('Number of articles per year per month')\n",
    "    plt.xlabel('Year')\n",
    "    plt.ylabel('Number of articles')\n",
    "    # Reduce the number of xticks\n",
    "    ax.set_xticks(ax.get_xticks()[::int(len(ax.get_xticks())/10)])\n",
    "    plt.show()"
   ]
  },
  {
   "cell_type": "code",
   "execution_count": 4,
   "id": "d87f5833-164a-4fd6-b58f-45b317fd2ccd",
   "metadata": {},
   "outputs": [],
   "source": [
    "DATA_PATH = '../data/'"
   ]
  },
  {
   "cell_type": "code",
   "execution_count": 5,
   "id": "ff3c6fa6-4236-4f09-8fa8-e47e6a2834b3",
   "metadata": {},
   "outputs": [
    {
     "data": {
      "text/plain": [
       "['data_1990_to_2000.csv',\n",
       " 'data_1960_to_1980.csv',\n",
       " 'data_2010_to_2023.csv',\n",
       " 'data_2000_to_2010.csv',\n",
       " 'data_1966_to_1971.csv',\n",
       " 'data_1980_to_1990.csv',\n",
       " 'data_1900_to_1960.csv',\n",
       " 'data_1960_to_1965.csv',\n",
       " 'data_1972_to_1979.csv']"
      ]
     },
     "execution_count": 5,
     "metadata": {},
     "output_type": "execute_result"
    }
   ],
   "source": [
    "files = [file for file in os.listdir(DATA_PATH) if file.endswith('.csv')]\n",
    "files"
   ]
  },
  {
   "cell_type": "code",
   "execution_count": 6,
   "id": "9c8a237e-c17b-4a8e-8aca-0901e7be392d",
   "metadata": {},
   "outputs": [],
   "source": [
    "dfs = []\n",
    "for file in files:\n",
    "    temp = pd.read_csv(os.path.join(DATA_PATH, file))\n",
    "    temp = temp.iloc[:, :4]\n",
    "    dfs.append(temp)\n",
    "\n",
    "df = pd.concat(dfs, ignore_index=True)\n",
    "df = df.dropna()\n",
    "df.loc[:, 'Date'] = df['Date'].apply(extract_date)\n",
    "df = df.dropna()\n",
    "df = df.loc[:, ['Date', 'Title', 'Body']]\n",
    "df = df.sort_values('Date', ignore_index=True)\n",
    "df = df.drop_duplicates()"
   ]
  },
  {
   "cell_type": "code",
   "execution_count": 7,
   "id": "c181fc38-5345-46ae-abac-d3c54b0aade0",
   "metadata": {},
   "outputs": [
    {
     "data": {
      "text/html": [
       "<div>\n",
       "<style scoped>\n",
       "    .dataframe tbody tr th:only-of-type {\n",
       "        vertical-align: middle;\n",
       "    }\n",
       "\n",
       "    .dataframe tbody tr th {\n",
       "        vertical-align: top;\n",
       "    }\n",
       "\n",
       "    .dataframe thead th {\n",
       "        text-align: right;\n",
       "    }\n",
       "</style>\n",
       "<table border=\"1\" class=\"dataframe\">\n",
       "  <thead>\n",
       "    <tr style=\"text-align: right;\">\n",
       "      <th></th>\n",
       "      <th>Date</th>\n",
       "      <th>Title</th>\n",
       "      <th>Body</th>\n",
       "    </tr>\n",
       "  </thead>\n",
       "  <tbody>\n",
       "    <tr>\n",
       "      <th>0</th>\n",
       "      <td>1900-04-21</td>\n",
       "      <td>Address at Ecumenical Conference, New York</td>\n",
       "      <td>Words of welcome are unnecessary here. This re...</td>\n",
       "    </tr>\n",
       "    <tr>\n",
       "      <th>1</th>\n",
       "      <td>1900-12-03</td>\n",
       "      <td>State of the Union Message</td>\n",
       "      <td>EXECUTIVE MANSION, December 3, 1900To the Sena...</td>\n",
       "    </tr>\n",
       "    <tr>\n",
       "      <th>2</th>\n",
       "      <td>1900-12-31</td>\n",
       "      <td>Theodore Roosevelt, An Autobiography With Illu...</td>\n",
       "      <td>It was still the Wild West in those days, the ...</td>\n",
       "    </tr>\n",
       "    <tr>\n",
       "      <th>3</th>\n",
       "      <td>1900-12-31</td>\n",
       "      <td>Theodore Roosevelt, An Autobiography With Illu...</td>\n",
       "      <td>APPENDIX A\\nCONSERVATIONAPPENDIX B\\nTHE POLITI...</td>\n",
       "    </tr>\n",
       "    <tr>\n",
       "      <th>4</th>\n",
       "      <td>1901-01-01</td>\n",
       "      <td>Theodore Roosevelt, An Autobiography With Illu...</td>\n",
       "      <td>I am reluctant to say anything whatever about ...</td>\n",
       "    </tr>\n",
       "    <tr>\n",
       "      <th>...</th>\n",
       "      <td>...</td>\n",
       "      <td>...</td>\n",
       "      <td>...</td>\n",
       "    </tr>\n",
       "    <tr>\n",
       "      <th>15583</th>\n",
       "      <td>2023-12-31</td>\n",
       "      <td>At These Schools, Arab and Jewish Students Sha...</td>\n",
       "      <td>In a classroom decorated with Hebrew and Arabi...</td>\n",
       "    </tr>\n",
       "    <tr>\n",
       "      <th>15584</th>\n",
       "      <td>2023-12-31</td>\n",
       "      <td>Can an Ambitious Public University Be a Place ...</td>\n",
       "      <td>Shortly after she became governor of New York,...</td>\n",
       "    </tr>\n",
       "    <tr>\n",
       "      <th>15585</th>\n",
       "      <td>2023-12-31</td>\n",
       "      <td>Tina Turner's Famous Body Was a Mirage</td>\n",
       "      <td>Tina Turner B. 1939Her famous shape was sculpt...</td>\n",
       "    </tr>\n",
       "    <tr>\n",
       "      <th>15586</th>\n",
       "      <td>2023-12-31</td>\n",
       "      <td>It's a Herculean Task to Keep Up in the Age of...</td>\n",
       "      <td>At the center of 2023's ''The Marvels'' is Car...</td>\n",
       "    </tr>\n",
       "    <tr>\n",
       "      <th>15588</th>\n",
       "      <td>2023-12-31</td>\n",
       "      <td>He Killed His Molester as a Teenager. Should H...</td>\n",
       "      <td>The documents confirmed what he had long feare...</td>\n",
       "    </tr>\n",
       "  </tbody>\n",
       "</table>\n",
       "<p>14664 rows × 3 columns</p>\n",
       "</div>"
      ],
      "text/plain": [
       "             Date                                              Title  \\\n",
       "0      1900-04-21         Address at Ecumenical Conference, New York   \n",
       "1      1900-12-03                         State of the Union Message   \n",
       "2      1900-12-31  Theodore Roosevelt, An Autobiography With Illu...   \n",
       "3      1900-12-31  Theodore Roosevelt, An Autobiography With Illu...   \n",
       "4      1901-01-01  Theodore Roosevelt, An Autobiography With Illu...   \n",
       "...           ...                                                ...   \n",
       "15583  2023-12-31  At These Schools, Arab and Jewish Students Sha...   \n",
       "15584  2023-12-31  Can an Ambitious Public University Be a Place ...   \n",
       "15585  2023-12-31             Tina Turner's Famous Body Was a Mirage   \n",
       "15586  2023-12-31  It's a Herculean Task to Keep Up in the Age of...   \n",
       "15588  2023-12-31  He Killed His Molester as a Teenager. Should H...   \n",
       "\n",
       "                                                    Body  \n",
       "0      Words of welcome are unnecessary here. This re...  \n",
       "1      EXECUTIVE MANSION, December 3, 1900To the Sena...  \n",
       "2      It was still the Wild West in those days, the ...  \n",
       "3      APPENDIX A\\nCONSERVATIONAPPENDIX B\\nTHE POLITI...  \n",
       "4      I am reluctant to say anything whatever about ...  \n",
       "...                                                  ...  \n",
       "15583  In a classroom decorated with Hebrew and Arabi...  \n",
       "15584  Shortly after she became governor of New York,...  \n",
       "15585  Tina Turner B. 1939Her famous shape was sculpt...  \n",
       "15586  At the center of 2023's ''The Marvels'' is Car...  \n",
       "15588  The documents confirmed what he had long feare...  \n",
       "\n",
       "[14664 rows x 3 columns]"
      ]
     },
     "execution_count": 7,
     "metadata": {},
     "output_type": "execute_result"
    }
   ],
   "source": [
    "df"
   ]
  },
  {
   "cell_type": "code",
   "execution_count": 8,
   "id": "11c41ce2-9506-401e-850e-17fddf2c8b23",
   "metadata": {},
   "outputs": [
    {
     "data": {
      "image/png": "[encoded data removed]",
      "text/plain": [
       "<Figure size 1000x500 with 1 Axes>"
      ]
     },
     "metadata": {},
     "output_type": "display_data"
    }
   ],
   "source": [
    "plot_articles_per_year(df)"
   ]
  },
  {
   "cell_type": "code",
   "execution_count": 9,
   "id": "f075d5c2-9cc4-4e96-a4f2-0ce985efadfe",
   "metadata": {},
   "outputs": [
    {
     "data": {
      "image/png": "[encoded data removed]",
      "text/plain": [
       "<Figure size 1000x500 with 1 Axes>"
      ]
     },
     "metadata": {},
     "output_type": "display_data"
    }
   ],
   "source": [
    "plot_articles_per_year_month(df)"
   ]
  },
  {
   "cell_type": "code",
   "execution_count": 10,
   "id": "0d4d3765-42b4-42e0-b57e-a7c04c5961b8",
   "metadata": {},
   "outputs": [],
   "source": [
    "import re\n",
    "from nltk.corpus import stopwords\n",
    "from nltk.tokenize import word_tokenize\n",
    "from collections import Counter\n",
    "from tqdm.auto import tqdm\n",
    "from nltk.sentiment import SentimentIntensityAnalyzer\n",
    "from nltk import pos_tag\n",
    "from nltk.chunk import ne_chunk\n",
    "from nltk.tree import Tree\n",
    "import spacy"
   ]
  },
  {
   "cell_type": "code",
   "execution_count": 11,
   "id": "2530cbfd-c7ee-4cc1-8e5e-3fd9a084096d",
   "metadata": {
    "scrolled": true
   },
   "outputs": [],
   "source": [
    "class TextAnalysis:\n",
    "    def __init__(self, dataframe):\n",
    "        self.df = dataframe\n",
    "        self.decade_frequency = {}\n",
    "        self.nlp = spacy.load(\"en_core_web_lg\")\n",
    "\n",
    "    def clean_text(self, text):\n",
    "        text = text.lower()  # Convert to lowercase\n",
    "        text = re.sub(r'\\d+', '', text)  # Remove numbers\n",
    "        text = re.sub(r'\\s+', ' ', text)  # Replace multiple spaces with a single space\n",
    "        text = re.sub(r'[^\\w\\s]', '', text)  # Remove punctuation\n",
    "        return text\n",
    "\n",
    "    def preprocess(self):\n",
    "        tqdm.pandas(desc=\"Cleaning text\")\n",
    "        self.df['Body'] = self.df['Body'].progress_apply(self.clean_text)\n",
    "        self.df['Date'] = pd.to_datetime(self.df['Date'])\n",
    "        self.df['Decade'] = self.df['Date'].dt.year // 10 * 10  # Get decade\n",
    "\n",
    "    def tokenize_and_count(self, texts):\n",
    "        stop_words = set(stopwords.words('english'))\n",
    "        all_tokens = word_tokenize(' '.join(texts))  # Combine texts and tokenize\n",
    "        tokens = [word for word in all_tokens if word not in stop_words and word.isalpha()]  # Filter out stop words and punctuation\n",
    "        return Counter(tokens)\n",
    "\n",
    "    def analyze_frequency(self):\n",
    "        grouped = self.df.groupby('Decade')['Body']\n",
    "        for decade, texts in tqdm(grouped, desc=\"Tokenizing and counting\"):\n",
    "            self.decade_frequency[decade] = self.tokenize_and_count(texts.tolist())\n",
    "\n",
    "    def count_community(self):\n",
    "        return {decade: freq.get('community', 0) for decade, freq in tqdm(self.decade_frequency.items(), desc=\"Counting 'community'\")}\n",
    "\n",
    "    def sentiment_analysis(self, text):\n",
    "        sid = SentimentIntensityAnalyzer()\n",
    "        return sid.polarity_scores(text)\n",
    "\n",
    "    def named_entity_recognition(self, text):\n",
    "        max_length = 1000000  # Set a chunk size that is manageable\n",
    "        results = []\n",
    "        for start in range(0, len(text), max_length):\n",
    "            # Process text in chunks that fit within the max_length limit\n",
    "            chunk = text[start:start + max_length]\n",
    "            doc = self.nlp(chunk)\n",
    "            results.extend([(ent.text, ent.label_) for ent in doc.ents])\n",
    "        return results\n",
    "\n",
    "    def perform_advanced_analysis(self):\n",
    "        # This method can be expanded to perform a detailed analysis per decade or as needed.\n",
    "        results = {}\n",
    "        for decade, texts in tqdm(self.df.groupby('Decade')['Body'], desc=\"Advanced Analysis\"):\n",
    "            combined_texts = ' '.join(texts.tolist())\n",
    "            sentiment = self.sentiment_analysis(combined_texts)\n",
    "            named_entities = self.named_entity_recognition(combined_texts)\n",
    "            results[decade] = {\n",
    "                'sentiment': sentiment,\n",
    "                'named_entities': named_entities\n",
    "            }\n",
    "        return results"
   ]
  },
  {
   "cell_type": "code",
   "execution_count": 12,
   "id": "d6708b57-3d1f-469b-b399-3c2f9aef2ee0",
   "metadata": {
    "scrolled": true
   },
   "outputs": [],
   "source": [
    "text_analysis = TextAnalysis(df)"
   ]
  },
  {
   "cell_type": "code",
   "execution_count": 13,
   "id": "9fb6de60-bc5f-4684-b64d-37147723cf4b",
   "metadata": {},
   "outputs": [
    {
     "data": {
      "application/vnd.jupyter.widget-view+json": {
       "model_id": "84880d65e9994557b24cf012f286af8b",
       "version_major": 2,
       "version_minor": 0
      },
      "text/plain": [
       "Cleaning text:   0%|          | 0/14664 [00:00<?, ?it/s]"
      ]
     },
     "metadata": {},
     "output_type": "display_data"
    }
   ],
   "source": [
    "text_analysis.preprocess()"
   ]
  },
  {
   "cell_type": "code",
   "execution_count": 14,
   "id": "4627492e-6a22-4b63-b94a-a9063df91ba8",
   "metadata": {},
   "outputs": [
    {
     "data": {
      "application/vnd.jupyter.widget-view+json": {
       "model_id": "8bb6d797d9b24681877174710fa6ac23",
       "version_major": 2,
       "version_minor": 0
      },
      "text/plain": [
       "Tokenizing and counting:   0%|          | 0/13 [00:00<?, ?it/s]"
      ]
     },
     "metadata": {},
     "output_type": "display_data"
    }
   ],
   "source": [
    "text_analysis.analyze_frequency()"
   ]
  },
  {
   "cell_type": "code",
   "execution_count": 15,
   "id": "38d40fab-d3e3-47b7-8808-ad796dfee518",
   "metadata": {},
   "outputs": [
    {
     "data": {
      "application/vnd.jupyter.widget-view+json": {
       "model_id": "8de5457fb8934567a3471063d590e8c1",
       "version_major": 2,
       "version_minor": 0
      },
      "text/plain": [
       "Counting 'community':   0%|          | 0/13 [00:00<?, ?it/s]"
      ]
     },
     "metadata": {},
     "output_type": "display_data"
    },
    {
     "data": {
      "text/plain": [
       "{1900: 121,\n",
       " 1910: 42,\n",
       " 1920: 70,\n",
       " 1930: 178,\n",
       " 1940: 127,\n",
       " 1950: 131,\n",
       " 1960: 142,\n",
       " 1970: 1715,\n",
       " 1980: 13731,\n",
       " 1990: 12710,\n",
       " 2000: 8790,\n",
       " 2010: 5152,\n",
       " 2020: 7617}"
      ]
     },
     "execution_count": 15,
     "metadata": {},
     "output_type": "execute_result"
    }
   ],
   "source": [
    "community_counts = text_analysis.count_community()\n",
    "community_counts"
   ]
  },
  {
   "cell_type": "code",
   "execution_count": null,
   "id": "54fe1947-f6a6-4209-8e7c-b624ff656f16",
   "metadata": {},
   "outputs": [
    {
     "data": {
      "application/vnd.jupyter.widget-view+json": {
       "model_id": "d606360d735a44d4b3af2f9abf1350f2",
       "version_major": 2,
       "version_minor": 0
      },
      "text/plain": [
       "Advanced Analysis:   0%|          | 0/13 [00:00<?, ?it/s]"
      ]
     },
     "metadata": {},
     "output_type": "display_data"
    }
   ],
   "source": [
    "advanced_analysis_results = text_analysis.perform_advanced_analysis()\n",
    "advanced_analysis_results"
   ]
  },
  {
   "cell_type": "code",
   "execution_count": null,
   "id": "3a58f94e-9fdf-416c-b4a2-26de332a277e",
   "metadata": {},
   "outputs": [],
   "source": []
  }
 ],
 "metadata": {
  "kernelspec": {
   "display_name": "Python [conda env:research]",
   "language": "python",
   "name": "conda-env-research-py"
  },
  "language_info": {
   "codemirror_mode": {
    "name": "ipython",
    "version": 3
   },
   "file_extension": ".py",
   "mimetype": "text/x-python",
   "name": "python",
   "nbconvert_exporter": "python",
   "pygments_lexer": "ipython3",
   "version": "3.10.0"
  }
 },
 "nbformat": 4,
 "nbformat_minor": 5
}
